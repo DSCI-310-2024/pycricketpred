{
 "cells": [
  {
   "cell_type": "markdown",
   "metadata": {},
   "source": [
    "# Example usage\n",
    "\n",

    "This example usage showcases how to utilize the `pycricketpred` library in a project for cricket match prediction. \n",
    "\n",
    "We'll walk through each step with detailed explanations."
   ]
  },
  {
   "cell_type": "markdown",
   "metadata": {},
   "source": [
    "## Importing the Library and Submodules"
   ]
  },
  {
   "cell_type": "code",
   "execution_count": 89,
   "metadata": {
    "scrolled": true
   },
   "outputs": [
    {
     "name": "stdout",
     "output_type": "stream",
     "text": [
      "0.1.0\n"

     ]
    }
   ],
   "source": [
    "import pycricketpred\n",
    "\n",

    "#displays the current version of the library you're using.\n",

    "print(pycricketpred.__version__)"
   ]
  },
  {

   "cell_type": "code",
   "execution_count": 90,
   "metadata": {},
   "outputs": [],
   "source": [
    "# import specific functions from various submodules within pycricketpred:\n",
    "\n",
    "#general data reading and manipulation tasks\n",
    "from pycricketpred.data_wrangling import *  \n",
    "#cleaning and preparing the cricket data.\n",
    "from pycricketpred.data_cleaning import separate_columns,split_and_save_data \n",
    "# visualizations and plots for exploratory data analysis\n",
    "from pycricketpred.eda import vis_bar,hist_chart\n",
    "# building and training LogisticRegression models.\n",
    "from pycricketpred.modelling import *\n"
   ]
  },
  {
   "cell_type": "markdown",
   "metadata": {},
   "source": [
    "## Preprocessing the Cricket Data"

   ]
  },
  {
   "cell_type": "code",

   "execution_count": 91,
   "metadata": {},
   "outputs": [
    {
     "data": {
      "text/plain": [
       "(5, 23)"
      ]
     },
     "execution_count": 91,
     "metadata": {},
     "output_type": "execute_result"
    }
   ],
   "source": [
    "# a sample dictionary containing cricket match data\n",
    "data = {\n",
    "    'game_id': ['1001349', '1001349', '1001350', '1001350', '1001351'],\n",
    "    'season': ['2016/17', '2016/17', '2016/17', '2016/17', '2016/17'],\n",
    "    'team': ['Australia', 'Australia', 'England', 'England', 'India'],\n",
    "    'over': [0, 1, 0, 0, 1],\n",
    "    'batter': ['AJ Finch', 'AJ Finch', 'JM Bairstow', 'JM Bairstow', 'V Kohli'],\n",
    "    'batter_id': ['b8d490fd', 'b8d490fd', 'j4n5b78s', 'j4n5b78s', 'v7k3l9o2'],\n",
    "    'bowler': ['SL Malinga', 'SL Malinga', 'C Woakes', 'C Woakes', 'JJ Bumrah'],\n",
    "    'bowler_id': ['a12e1d51', 'a12e1d51', 'c7w4o2k5', 'c7w4o2k5', 'j5b2m3r4'],\n",
    "    'non_striker': ['M Klinger', 'M Klinger', 'AD Hales', 'AD Hales', 'RG Sharma'],\n",
    "    'non_striker_id': ['b970a03f', 'b970a03f', 'a1d4h89e', 'a1d4h89e', 'r8g3s5h2'],\n",
    "    'wides': [0, 0, 1, 0, 1],\n",
    "    'noballs': [0, 0, 1, 1, 0],\n",
    "    'legbyes': [0, 1, 0, 0, 0],\n",
    "    'byes': [1, 0, 0, 1, 1],\n",
    "    'wicket': [0, 1, 0, 1, 0],\n",
    "    'player_out': [None, None, None, None, None],\n",
    "    'player_out_id': [None, None, None, None, None],\n",
    "    'fielders_name': [None, None, None, None, None],\n",
    "    'fielders_id': [None, None, None, None, None],\n",
    "    'wicket_type': [None, None, None, None, None],\n",
    "    'runs_batter': [0, 1, 0, 0, 0],\n",
    "    'runs_extras': [1, 1, 0, 0, 1],\n",
    "    'runs_total': [0, 0, 0, 1, 0],\n",
    "}\n",
    "\n",
    "# Creating the DataFrame for example demo\n",
    "data_example = pd.DataFrame(data)\n",
    "data_example.shape"
   ]
  },
  {
   "cell_type": "markdown",
   "metadata": {
    "jp-MarkdownHeadingCollapsed": true
   },
   "source": [
    "#### add extra 5 columns needed for the analysis\n",
    "\n",
    "Extra columns added are: \n",
    "- team_over (which over is being played which team: str),\n",
    "- over_ball (which ball of the over is it: str), \n",
    "- inning (which innings (1st or 2nd): int), \n",
    "- runs_cumulative (runs scored so far in the inning: int), \n",
    "- powerplay (is it a powerplay or not: int)"
   ]
  },
  {
   "cell_type": "code",
   "execution_count": 92,
   "metadata": {},
   "outputs": [
    {
     "data": {
      "text/html": [
       "<div>\n",
       "<style scoped>\n",
       "    .dataframe tbody tr th:only-of-type {\n",
       "        vertical-align: middle;\n",
       "    }\n",
       "\n",
       "    .dataframe tbody tr th {\n",
       "        vertical-align: top;\n",
       "    }\n",
       "\n",
       "    .dataframe thead th {\n",
       "        text-align: right;\n",
       "    }\n",
       "</style>\n",
       "<table border=\"1\" class=\"dataframe\">\n",
       "  <thead>\n",
       "    <tr style=\"text-align: right;\">\n",
       "      <th></th>\n",
       "      <th>game_id</th>\n",
       "      <th>season</th>\n",
       "      <th>team</th>\n",
       "      <th>over</th>\n",
       "      <th>batter</th>\n",
       "      <th>batter_id</th>\n",
       "      <th>bowler</th>\n",
       "      <th>bowler_id</th>\n",
       "      <th>non_striker</th>\n",
       "      <th>non_striker_id</th>\n",
       "      <th>...</th>\n",
       "      <th>fielders_id</th>\n",
       "      <th>wicket_type</th>\n",
       "      <th>runs_batter</th>\n",
       "      <th>runs_extras</th>\n",
       "      <th>runs_total</th>\n",
       "      <th>team_over</th>\n",
       "      <th>over_ball</th>\n",
       "      <th>inning</th>\n",
       "      <th>runs_cumulative</th>\n",
       "      <th>powerplay</th>\n",
       "    </tr>\n",
       "  </thead>\n",
       "  <tbody>\n",
       "    <tr>\n",
       "      <th>0</th>\n",
       "      <td>1001349</td>\n",
       "      <td>2016/17</td>\n",
       "      <td>Australia</td>\n",
       "      <td>0</td>\n",
       "      <td>AJ Finch</td>\n",
       "      <td>b8d490fd</td>\n",
       "      <td>SL Malinga</td>\n",
       "      <td>a12e1d51</td>\n",
       "      <td>M Klinger</td>\n",
       "      <td>b970a03f</td>\n",
       "      <td>...</td>\n",
       "      <td>None</td>\n",
       "      <td>None</td>\n",
       "      <td>0</td>\n",
       "      <td>1</td>\n",
       "      <td>0</td>\n",
       "      <td>Australia_0</td>\n",
       "      <td>1</td>\n",
       "      <td>1</td>\n",
       "      <td>0</td>\n",
       "      <td>1</td>\n",
       "    </tr>\n",
       "    <tr>\n",
       "      <th>1</th>\n",
       "      <td>1001349</td>\n",
       "      <td>2016/17</td>\n",
       "      <td>Australia</td>\n",
       "      <td>1</td>\n",
       "      <td>AJ Finch</td>\n",
       "      <td>b8d490fd</td>\n",
       "      <td>SL Malinga</td>\n",
       "      <td>a12e1d51</td>\n",
       "      <td>M Klinger</td>\n",
       "      <td>b970a03f</td>\n",
       "      <td>...</td>\n",
       "      <td>None</td>\n",
       "      <td>None</td>\n",
       "      <td>1</td>\n",
       "      <td>1</td>\n",
       "      <td>0</td>\n",
       "      <td>Australia_1</td>\n",
       "      <td>1</td>\n",
       "      <td>1</td>\n",
       "      <td>0</td>\n",
       "      <td>1</td>\n",
       "    </tr>\n",
       "    <tr>\n",
       "      <th>2</th>\n",
       "      <td>1001350</td>\n",
       "      <td>2016/17</td>\n",
       "      <td>England</td>\n",
       "      <td>0</td>\n",
       "      <td>JM Bairstow</td>\n",
       "      <td>j4n5b78s</td>\n",
       "      <td>C Woakes</td>\n",
       "      <td>c7w4o2k5</td>\n",
       "      <td>AD Hales</td>\n",
       "      <td>a1d4h89e</td>\n",
       "      <td>...</td>\n",
       "      <td>None</td>\n",
       "      <td>None</td>\n",
       "      <td>0</td>\n",
       "      <td>0</td>\n",
       "      <td>0</td>\n",
       "      <td>England_0</td>\n",
       "      <td>1</td>\n",
       "      <td>2</td>\n",
       "      <td>0</td>\n",
       "      <td>1</td>\n",
       "    </tr>\n",
       "    <tr>\n",
       "      <th>3</th>\n",
       "      <td>1001350</td>\n",
       "      <td>2016/17</td>\n",
       "      <td>England</td>\n",
       "      <td>0</td>\n",
       "      <td>JM Bairstow</td>\n",
       "      <td>j4n5b78s</td>\n",
       "      <td>C Woakes</td>\n",
       "      <td>c7w4o2k5</td>\n",
       "      <td>AD Hales</td>\n",
       "      <td>a1d4h89e</td>\n",
       "      <td>...</td>\n",
       "      <td>None</td>\n",
       "      <td>None</td>\n",
       "      <td>0</td>\n",
       "      <td>0</td>\n",
       "      <td>1</td>\n",
       "      <td>England_0</td>\n",
       "      <td>2</td>\n",
       "      <td>2</td>\n",
       "      <td>1</td>\n",
       "      <td>1</td>\n",
       "    </tr>\n",
       "    <tr>\n",
       "      <th>4</th>\n",
       "      <td>1001351</td>\n",
       "      <td>2016/17</td>\n",
       "      <td>India</td>\n",
       "      <td>1</td>\n",
       "      <td>V Kohli</td>\n",
       "      <td>v7k3l9o2</td>\n",
       "      <td>JJ Bumrah</td>\n",
       "      <td>j5b2m3r4</td>\n",
       "      <td>RG Sharma</td>\n",
       "      <td>r8g3s5h2</td>\n",
       "      <td>...</td>\n",
       "      <td>None</td>\n",
       "      <td>None</td>\n",
       "      <td>0</td>\n",
       "      <td>1</td>\n",
       "      <td>0</td>\n",
       "      <td>India_1</td>\n",
       "      <td>1</td>\n",
       "      <td>2</td>\n",
       "      <td>1</td>\n",
       "      <td>1</td>\n",
       "    </tr>\n",
       "  </tbody>\n",
       "</table>\n",
       "<p>5 rows × 28 columns</p>\n",
       "</div>"
      ],
      "text/plain": [
       "   game_id   season       team  over       batter batter_id      bowler  \\\n",
       "0  1001349  2016/17  Australia     0     AJ Finch  b8d490fd  SL Malinga   \n",
       "1  1001349  2016/17  Australia     1     AJ Finch  b8d490fd  SL Malinga   \n",
       "2  1001350  2016/17    England     0  JM Bairstow  j4n5b78s    C Woakes   \n",
       "3  1001350  2016/17    England     0  JM Bairstow  j4n5b78s    C Woakes   \n",
       "4  1001351  2016/17      India     1      V Kohli  v7k3l9o2   JJ Bumrah   \n",
       "\n",
       "  bowler_id non_striker non_striker_id  ...  fielders_id  wicket_type  \\\n",
       "0  a12e1d51   M Klinger       b970a03f  ...         None         None   \n",
       "1  a12e1d51   M Klinger       b970a03f  ...         None         None   \n",
       "2  c7w4o2k5    AD Hales       a1d4h89e  ...         None         None   \n",
       "3  c7w4o2k5    AD Hales       a1d4h89e  ...         None         None   \n",
       "4  j5b2m3r4   RG Sharma       r8g3s5h2  ...         None         None   \n",
       "\n",
       "   runs_batter  runs_extras  runs_total    team_over over_ball inning  \\\n",
       "0            0            1           0  Australia_0         1      1   \n",
       "1            1            1           0  Australia_1         1      1   \n",
       "2            0            0           0    England_0         1      2   \n",
       "3            0            0           1    England_0         2      2   \n",
       "4            0            1           0      India_1         1      2   \n",
       "\n",
       "  runs_cumulative powerplay  \n",
       "0               0         1  \n",
       "1               0         1  \n",
       "2               0         1  \n",
       "3               1         1  \n",
       "4               1         1  \n",
       "\n",
       "[5 rows x 28 columns]"
      ]
     },
     "execution_count": 92,
     "metadata": {},
     "output_type": "execute_result"
    }
   ],
   "source": [
    "data_example = add_columns(data_example)\n",
    "data_example"
   ]
  },
  {
   "cell_type": "markdown",
   "metadata": {},
   "source": [
    "#### Splitting Data into Training and Testing Sets"
   ]
  },
  {
   "cell_type": "code",
   "execution_count": 93,
   "metadata": {},
   "outputs": [],
   "source": [
    "#Drop the ‘wicket‘ column from the DataFrame and separate it as the target variable.\n",
    "X_example , y_example  = separate_columns(data_example)"
   ]
  },
  {
   "cell_type": "code",
   "execution_count": 94,
   "metadata": {},
   "outputs": [],
   "source": [
    "#Split the data into training and testing sets, and save the training data to a CSV file.\n",
    "X_train_example, X_test_example, y_train_example, y_test_example , full_train_example =split_and_save_data(X_example , \n",
    "                                                                                                           y_example,\n",
    "                                                                                                           save_table_path = '../data_example')"
   ]
  },
  {
   "cell_type": "markdown",
   "metadata": {},
   "source": [
    "## Data Visualization for Exploration"
   ]
  },
  {
   "cell_type": "markdown",
   "metadata": {},
   "source": [
    "Use the vis_bar function to create bar charts for different features (this example looks into \"over\", \"batter\", and \"season\")"
   ]
  },
  {
   "cell_type": "code",
   "execution_count": 95,
   "metadata": {
    "scrolled": true
   },
   "outputs": [
    {
     "data": {
      "text/html": [
       "\n",
       "<style>\n",
       "  #altair-viz-34112a135fe744378e8beb4dc77aa88e.vega-embed {\n",
       "    width: 100%;\n",
       "    display: flex;\n",
       "  }\n",
       "\n",
       "  #altair-viz-34112a135fe744378e8beb4dc77aa88e.vega-embed details,\n",
       "  #altair-viz-34112a135fe744378e8beb4dc77aa88e.vega-embed details summary {\n",
       "    position: relative;\n",
       "  }\n",
       "</style>\n",
       "<div id=\"altair-viz-34112a135fe744378e8beb4dc77aa88e\"></div>\n",
       "<script type=\"text/javascript\">\n",
       "  var VEGA_DEBUG = (typeof VEGA_DEBUG == \"undefined\") ? {} : VEGA_DEBUG;\n",
       "  (function(spec, embedOpt){\n",
       "    let outputDiv = document.currentScript.previousElementSibling;\n",
       "    if (outputDiv.id !== \"altair-viz-34112a135fe744378e8beb4dc77aa88e\") {\n",
       "      outputDiv = document.getElementById(\"altair-viz-34112a135fe744378e8beb4dc77aa88e\");\n",
       "    }\n",
       "    const paths = {\n",
       "      \"vega\": \"https://cdn.jsdelivr.net/npm/vega@5?noext\",\n",
       "      \"vega-lib\": \"https://cdn.jsdelivr.net/npm/vega-lib?noext\",\n",
       "      \"vega-lite\": \"https://cdn.jsdelivr.net/npm/vega-lite@5.16.3?noext\",\n",
       "      \"vega-embed\": \"https://cdn.jsdelivr.net/npm/vega-embed@6?noext\",\n",
       "    };\n",
       "\n",
       "    function maybeLoadScript(lib, version) {\n",
       "      var key = `${lib.replace(\"-\", \"\")}_version`;\n",
       "      return (VEGA_DEBUG[key] == version) ?\n",
       "        Promise.resolve(paths[lib]) :\n",
       "        new Promise(function(resolve, reject) {\n",
       "          var s = document.createElement('script');\n",
       "          document.getElementsByTagName(\"head\")[0].appendChild(s);\n",
       "          s.async = true;\n",
       "          s.onload = () => {\n",
       "            VEGA_DEBUG[key] = version;\n",
       "            return resolve(paths[lib]);\n",
       "          };\n",
       "          s.onerror = () => reject(`Error loading script: ${paths[lib]}`);\n",
       "          s.src = paths[lib];\n",
       "        });\n",
       "    }\n",
       "\n",
       "    function showError(err) {\n",
       "      outputDiv.innerHTML = `<div class=\"error\" style=\"color:red;\">${err}</div>`;\n",
       "      throw err;\n",
       "    }\n",
       "\n",
       "    function displayChart(vegaEmbed) {\n",
       "      vegaEmbed(outputDiv, spec, embedOpt)\n",
       "        .catch(err => showError(`Javascript Error: ${err.message}<br>This usually means there's a typo in your chart specification. See the javascript console for the full traceback.`));\n",
       "    }\n",
       "\n",
       "    if(typeof define === \"function\" && define.amd) {\n",
       "      requirejs.config({paths});\n",
       "      require([\"vega-embed\"], displayChart, err => showError(`Error loading script: ${err.message}`));\n",
       "    } else {\n",
       "      maybeLoadScript(\"vega\", \"5\")\n",
       "        .then(() => maybeLoadScript(\"vega-lite\", \"5.16.3\"))\n",
       "        .then(() => maybeLoadScript(\"vega-embed\", \"6\"))\n",
       "        .catch(showError)\n",
       "        .then(() => displayChart(vegaEmbed));\n",
       "    }\n",
       "  })({\"config\": {\"view\": {\"continuousWidth\": 300, \"continuousHeight\": 300}}, \"data\": {\"name\": \"data-0759774c2460140ead0bdb1b814de414\"}, \"mark\": {\"type\": \"bar\"}, \"encoding\": {\"x\": {\"field\": \"over\", \"type\": \"quantitative\"}, \"y\": {\"aggregate\": \"count\", \"type\": \"quantitative\"}}, \"height\": 150, \"width\": 150, \"$schema\": \"https://vega.github.io/schema/vega-lite/v5.16.3.json\", \"datasets\": {\"data-0759774c2460140ead0bdb1b814de414\": [{\"game_id\": \"1001349\", \"season\": \"2016/17\", \"team\": \"Australia\", \"over\": 0, \"batter\": \"AJ Finch\", \"batter_id\": \"b8d490fd\", \"bowler\": \"SL Malinga\", \"bowler_id\": \"a12e1d51\", \"non_striker\": \"M Klinger\", \"non_striker_id\": \"b970a03f\", \"wides\": 0, \"noballs\": 0, \"legbyes\": 0, \"byes\": 1, \"wicket\": 0, \"player_out\": null, \"player_out_id\": null, \"fielders_name\": null, \"fielders_id\": null, \"wicket_type\": null, \"runs_batter\": 0, \"runs_extras\": 1, \"runs_total\": 0, \"team_over\": \"Australia_0\", \"over_ball\": 1, \"inning\": 1, \"runs_cumulative\": 0, \"powerplay\": 1}, {\"game_id\": \"1001349\", \"season\": \"2016/17\", \"team\": \"Australia\", \"over\": 1, \"batter\": \"AJ Finch\", \"batter_id\": \"b8d490fd\", \"bowler\": \"SL Malinga\", \"bowler_id\": \"a12e1d51\", \"non_striker\": \"M Klinger\", \"non_striker_id\": \"b970a03f\", \"wides\": 0, \"noballs\": 0, \"legbyes\": 1, \"byes\": 0, \"wicket\": 1, \"player_out\": null, \"player_out_id\": null, \"fielders_name\": null, \"fielders_id\": null, \"wicket_type\": null, \"runs_batter\": 1, \"runs_extras\": 1, \"runs_total\": 0, \"team_over\": \"Australia_1\", \"over_ball\": 1, \"inning\": 1, \"runs_cumulative\": 0, \"powerplay\": 1}, {\"game_id\": \"1001350\", \"season\": \"2016/17\", \"team\": \"England\", \"over\": 0, \"batter\": \"JM Bairstow\", \"batter_id\": \"j4n5b78s\", \"bowler\": \"C Woakes\", \"bowler_id\": \"c7w4o2k5\", \"non_striker\": \"AD Hales\", \"non_striker_id\": \"a1d4h89e\", \"wides\": 1, \"noballs\": 1, \"legbyes\": 0, \"byes\": 0, \"wicket\": 0, \"player_out\": null, \"player_out_id\": null, \"fielders_name\": null, \"fielders_id\": null, \"wicket_type\": null, \"runs_batter\": 0, \"runs_extras\": 0, \"runs_total\": 0, \"team_over\": \"England_0\", \"over_ball\": 1, \"inning\": 2, \"runs_cumulative\": 0, \"powerplay\": 1}, {\"game_id\": \"1001350\", \"season\": \"2016/17\", \"team\": \"England\", \"over\": 0, \"batter\": \"JM Bairstow\", \"batter_id\": \"j4n5b78s\", \"bowler\": \"C Woakes\", \"bowler_id\": \"c7w4o2k5\", \"non_striker\": \"AD Hales\", \"non_striker_id\": \"a1d4h89e\", \"wides\": 0, \"noballs\": 1, \"legbyes\": 0, \"byes\": 1, \"wicket\": 1, \"player_out\": null, \"player_out_id\": null, \"fielders_name\": null, \"fielders_id\": null, \"wicket_type\": null, \"runs_batter\": 0, \"runs_extras\": 0, \"runs_total\": 1, \"team_over\": \"England_0\", \"over_ball\": 2, \"inning\": 2, \"runs_cumulative\": 1, \"powerplay\": 1}, {\"game_id\": \"1001351\", \"season\": \"2016/17\", \"team\": \"India\", \"over\": 1, \"batter\": \"V Kohli\", \"batter_id\": \"v7k3l9o2\", \"bowler\": \"JJ Bumrah\", \"bowler_id\": \"j5b2m3r4\", \"non_striker\": \"RG Sharma\", \"non_striker_id\": \"r8g3s5h2\", \"wides\": 1, \"noballs\": 0, \"legbyes\": 0, \"byes\": 1, \"wicket\": 0, \"player_out\": null, \"player_out_id\": null, \"fielders_name\": null, \"fielders_id\": null, \"wicket_type\": null, \"runs_batter\": 0, \"runs_extras\": 1, \"runs_total\": 0, \"team_over\": \"India_1\", \"over_ball\": 1, \"inning\": 2, \"runs_cumulative\": 1, \"powerplay\": 1}]}}, {\"mode\": \"vega-lite\"});\n",
       "</script>"
      ],
      "text/plain": [
       "alt.Chart(...)"
      ]
     },
     "execution_count": 95,
     "metadata": {},
     "output_type": "execute_result"
    }
   ],
   "source": [
    "over = vis_bar(data_example, \"over\", 150, 150)\n",
    "over"
   ]
  },
  {
   "cell_type": "code",
   "execution_count": 96,
   "metadata": {},
   "outputs": [
    {
     "data": {
      "text/html": [
       "\n",
       "<style>\n",
       "  #altair-viz-a4ee300b600e4179b31148a963cff9e0.vega-embed {\n",
       "    width: 100%;\n",
       "    display: flex;\n",
       "  }\n",
       "\n",
       "  #altair-viz-a4ee300b600e4179b31148a963cff9e0.vega-embed details,\n",
       "  #altair-viz-a4ee300b600e4179b31148a963cff9e0.vega-embed details summary {\n",
       "    position: relative;\n",
       "  }\n",
       "</style>\n",
       "<div id=\"altair-viz-a4ee300b600e4179b31148a963cff9e0\"></div>\n",
       "<script type=\"text/javascript\">\n",
       "  var VEGA_DEBUG = (typeof VEGA_DEBUG == \"undefined\") ? {} : VEGA_DEBUG;\n",
       "  (function(spec, embedOpt){\n",
       "    let outputDiv = document.currentScript.previousElementSibling;\n",
       "    if (outputDiv.id !== \"altair-viz-a4ee300b600e4179b31148a963cff9e0\") {\n",
       "      outputDiv = document.getElementById(\"altair-viz-a4ee300b600e4179b31148a963cff9e0\");\n",
       "    }\n",
       "    const paths = {\n",
       "      \"vega\": \"https://cdn.jsdelivr.net/npm/vega@5?noext\",\n",
       "      \"vega-lib\": \"https://cdn.jsdelivr.net/npm/vega-lib?noext\",\n",
       "      \"vega-lite\": \"https://cdn.jsdelivr.net/npm/vega-lite@5.16.3?noext\",\n",
       "      \"vega-embed\": \"https://cdn.jsdelivr.net/npm/vega-embed@6?noext\",\n",
       "    };\n",
       "\n",
       "    function maybeLoadScript(lib, version) {\n",
       "      var key = `${lib.replace(\"-\", \"\")}_version`;\n",
       "      return (VEGA_DEBUG[key] == version) ?\n",
       "        Promise.resolve(paths[lib]) :\n",
       "        new Promise(function(resolve, reject) {\n",
       "          var s = document.createElement('script');\n",
       "          document.getElementsByTagName(\"head\")[0].appendChild(s);\n",
       "          s.async = true;\n",
       "          s.onload = () => {\n",
       "            VEGA_DEBUG[key] = version;\n",
       "            return resolve(paths[lib]);\n",
       "          };\n",
       "          s.onerror = () => reject(`Error loading script: ${paths[lib]}`);\n",
       "          s.src = paths[lib];\n",
       "        });\n",
       "    }\n",
       "\n",
       "    function showError(err) {\n",
       "      outputDiv.innerHTML = `<div class=\"error\" style=\"color:red;\">${err}</div>`;\n",
       "      throw err;\n",
       "    }\n",
       "\n",
       "    function displayChart(vegaEmbed) {\n",
       "      vegaEmbed(outputDiv, spec, embedOpt)\n",
       "        .catch(err => showError(`Javascript Error: ${err.message}<br>This usually means there's a typo in your chart specification. See the javascript console for the full traceback.`));\n",
       "    }\n",
       "\n",
       "    if(typeof define === \"function\" && define.amd) {\n",
       "      requirejs.config({paths});\n",
       "      require([\"vega-embed\"], displayChart, err => showError(`Error loading script: ${err.message}`));\n",
       "    } else {\n",
       "      maybeLoadScript(\"vega\", \"5\")\n",
       "        .then(() => maybeLoadScript(\"vega-lite\", \"5.16.3\"))\n",
       "        .then(() => maybeLoadScript(\"vega-embed\", \"6\"))\n",
       "        .catch(showError)\n",
       "        .then(() => displayChart(vegaEmbed));\n",
       "    }\n",
       "  })({\"config\": {\"view\": {\"continuousWidth\": 300, \"continuousHeight\": 300}}, \"data\": {\"name\": \"data-0759774c2460140ead0bdb1b814de414\"}, \"mark\": {\"type\": \"bar\"}, \"encoding\": {\"x\": {\"field\": \"batter\", \"type\": \"nominal\"}, \"y\": {\"aggregate\": \"count\", \"type\": \"quantitative\"}}, \"height\": 150, \"width\": 150, \"$schema\": \"https://vega.github.io/schema/vega-lite/v5.16.3.json\", \"datasets\": {\"data-0759774c2460140ead0bdb1b814de414\": [{\"game_id\": \"1001349\", \"season\": \"2016/17\", \"team\": \"Australia\", \"over\": 0, \"batter\": \"AJ Finch\", \"batter_id\": \"b8d490fd\", \"bowler\": \"SL Malinga\", \"bowler_id\": \"a12e1d51\", \"non_striker\": \"M Klinger\", \"non_striker_id\": \"b970a03f\", \"wides\": 0, \"noballs\": 0, \"legbyes\": 0, \"byes\": 1, \"wicket\": 0, \"player_out\": null, \"player_out_id\": null, \"fielders_name\": null, \"fielders_id\": null, \"wicket_type\": null, \"runs_batter\": 0, \"runs_extras\": 1, \"runs_total\": 0, \"team_over\": \"Australia_0\", \"over_ball\": 1, \"inning\": 1, \"runs_cumulative\": 0, \"powerplay\": 1}, {\"game_id\": \"1001349\", \"season\": \"2016/17\", \"team\": \"Australia\", \"over\": 1, \"batter\": \"AJ Finch\", \"batter_id\": \"b8d490fd\", \"bowler\": \"SL Malinga\", \"bowler_id\": \"a12e1d51\", \"non_striker\": \"M Klinger\", \"non_striker_id\": \"b970a03f\", \"wides\": 0, \"noballs\": 0, \"legbyes\": 1, \"byes\": 0, \"wicket\": 1, \"player_out\": null, \"player_out_id\": null, \"fielders_name\": null, \"fielders_id\": null, \"wicket_type\": null, \"runs_batter\": 1, \"runs_extras\": 1, \"runs_total\": 0, \"team_over\": \"Australia_1\", \"over_ball\": 1, \"inning\": 1, \"runs_cumulative\": 0, \"powerplay\": 1}, {\"game_id\": \"1001350\", \"season\": \"2016/17\", \"team\": \"England\", \"over\": 0, \"batter\": \"JM Bairstow\", \"batter_id\": \"j4n5b78s\", \"bowler\": \"C Woakes\", \"bowler_id\": \"c7w4o2k5\", \"non_striker\": \"AD Hales\", \"non_striker_id\": \"a1d4h89e\", \"wides\": 1, \"noballs\": 1, \"legbyes\": 0, \"byes\": 0, \"wicket\": 0, \"player_out\": null, \"player_out_id\": null, \"fielders_name\": null, \"fielders_id\": null, \"wicket_type\": null, \"runs_batter\": 0, \"runs_extras\": 0, \"runs_total\": 0, \"team_over\": \"England_0\", \"over_ball\": 1, \"inning\": 2, \"runs_cumulative\": 0, \"powerplay\": 1}, {\"game_id\": \"1001350\", \"season\": \"2016/17\", \"team\": \"England\", \"over\": 0, \"batter\": \"JM Bairstow\", \"batter_id\": \"j4n5b78s\", \"bowler\": \"C Woakes\", \"bowler_id\": \"c7w4o2k5\", \"non_striker\": \"AD Hales\", \"non_striker_id\": \"a1d4h89e\", \"wides\": 0, \"noballs\": 1, \"legbyes\": 0, \"byes\": 1, \"wicket\": 1, \"player_out\": null, \"player_out_id\": null, \"fielders_name\": null, \"fielders_id\": null, \"wicket_type\": null, \"runs_batter\": 0, \"runs_extras\": 0, \"runs_total\": 1, \"team_over\": \"England_0\", \"over_ball\": 2, \"inning\": 2, \"runs_cumulative\": 1, \"powerplay\": 1}, {\"game_id\": \"1001351\", \"season\": \"2016/17\", \"team\": \"India\", \"over\": 1, \"batter\": \"V Kohli\", \"batter_id\": \"v7k3l9o2\", \"bowler\": \"JJ Bumrah\", \"bowler_id\": \"j5b2m3r4\", \"non_striker\": \"RG Sharma\", \"non_striker_id\": \"r8g3s5h2\", \"wides\": 1, \"noballs\": 0, \"legbyes\": 0, \"byes\": 1, \"wicket\": 0, \"player_out\": null, \"player_out_id\": null, \"fielders_name\": null, \"fielders_id\": null, \"wicket_type\": null, \"runs_batter\": 0, \"runs_extras\": 1, \"runs_total\": 0, \"team_over\": \"India_1\", \"over_ball\": 1, \"inning\": 2, \"runs_cumulative\": 1, \"powerplay\": 1}]}}, {\"mode\": \"vega-lite\"});\n",
       "</script>"
      ],
      "text/plain": [
       "alt.Chart(...)"
      ]
     },
     "execution_count": 96,
     "metadata": {},
     "output_type": "execute_result"
    }
   ],
   "source": [
    "batter = vis_bar(data_example, \"batter\", 150, 150)\n",
    "batter"
   ]
  },
  {
   "cell_type": "code",
   "execution_count": 97,
   "metadata": {
    "scrolled": true
   },
   "outputs": [
    {
     "data": {
      "text/html": [
       "\n",
       "<style>\n",
       "  #altair-viz-79568f019f274668954a84f62b4eb6df.vega-embed {\n",
       "    width: 100%;\n",
       "    display: flex;\n",
       "  }\n",
       "\n",
       "  #altair-viz-79568f019f274668954a84f62b4eb6df.vega-embed details,\n",
       "  #altair-viz-79568f019f274668954a84f62b4eb6df.vega-embed details summary {\n",
       "    position: relative;\n",
       "  }\n",
       "</style>\n",
       "<div id=\"altair-viz-79568f019f274668954a84f62b4eb6df\"></div>\n",
       "<script type=\"text/javascript\">\n",
       "  var VEGA_DEBUG = (typeof VEGA_DEBUG == \"undefined\") ? {} : VEGA_DEBUG;\n",
       "  (function(spec, embedOpt){\n",
       "    let outputDiv = document.currentScript.previousElementSibling;\n",
       "    if (outputDiv.id !== \"altair-viz-79568f019f274668954a84f62b4eb6df\") {\n",
       "      outputDiv = document.getElementById(\"altair-viz-79568f019f274668954a84f62b4eb6df\");\n",
       "    }\n",
       "    const paths = {\n",
       "      \"vega\": \"https://cdn.jsdelivr.net/npm/vega@5?noext\",\n",
       "      \"vega-lib\": \"https://cdn.jsdelivr.net/npm/vega-lib?noext\",\n",
       "      \"vega-lite\": \"https://cdn.jsdelivr.net/npm/vega-lite@5.16.3?noext\",\n",
       "      \"vega-embed\": \"https://cdn.jsdelivr.net/npm/vega-embed@6?noext\",\n",
       "    };\n",
       "\n",
       "    function maybeLoadScript(lib, version) {\n",
       "      var key = `${lib.replace(\"-\", \"\")}_version`;\n",
       "      return (VEGA_DEBUG[key] == version) ?\n",
       "        Promise.resolve(paths[lib]) :\n",
       "        new Promise(function(resolve, reject) {\n",
       "          var s = document.createElement('script');\n",
       "          document.getElementsByTagName(\"head\")[0].appendChild(s);\n",
       "          s.async = true;\n",
       "          s.onload = () => {\n",
       "            VEGA_DEBUG[key] = version;\n",
       "            return resolve(paths[lib]);\n",
       "          };\n",
       "          s.onerror = () => reject(`Error loading script: ${paths[lib]}`);\n",
       "          s.src = paths[lib];\n",
       "        });\n",
       "    }\n",
       "\n",
       "    function showError(err) {\n",
       "      outputDiv.innerHTML = `<div class=\"error\" style=\"color:red;\">${err}</div>`;\n",
       "      throw err;\n",
       "    }\n",
       "\n",
       "    function displayChart(vegaEmbed) {\n",
       "      vegaEmbed(outputDiv, spec, embedOpt)\n",
       "        .catch(err => showError(`Javascript Error: ${err.message}<br>This usually means there's a typo in your chart specification. See the javascript console for the full traceback.`));\n",
       "    }\n",
       "\n",
       "    if(typeof define === \"function\" && define.amd) {\n",
       "      requirejs.config({paths});\n",
       "      require([\"vega-embed\"], displayChart, err => showError(`Error loading script: ${err.message}`));\n",
       "    } else {\n",
       "      maybeLoadScript(\"vega\", \"5\")\n",
       "        .then(() => maybeLoadScript(\"vega-lite\", \"5.16.3\"))\n",
       "        .then(() => maybeLoadScript(\"vega-embed\", \"6\"))\n",
       "        .catch(showError)\n",
       "        .then(() => displayChart(vegaEmbed));\n",
       "    }\n",
       "  })({\"config\": {\"view\": {\"continuousWidth\": 300, \"continuousHeight\": 300}}, \"data\": {\"name\": \"data-0759774c2460140ead0bdb1b814de414\"}, \"mark\": {\"type\": \"bar\"}, \"encoding\": {\"x\": {\"field\": \"season\", \"type\": \"nominal\"}, \"y\": {\"aggregate\": \"count\", \"type\": \"quantitative\"}}, \"height\": 150, \"width\": 150, \"$schema\": \"https://vega.github.io/schema/vega-lite/v5.16.3.json\", \"datasets\": {\"data-0759774c2460140ead0bdb1b814de414\": [{\"game_id\": \"1001349\", \"season\": \"2016/17\", \"team\": \"Australia\", \"over\": 0, \"batter\": \"AJ Finch\", \"batter_id\": \"b8d490fd\", \"bowler\": \"SL Malinga\", \"bowler_id\": \"a12e1d51\", \"non_striker\": \"M Klinger\", \"non_striker_id\": \"b970a03f\", \"wides\": 0, \"noballs\": 0, \"legbyes\": 0, \"byes\": 1, \"wicket\": 0, \"player_out\": null, \"player_out_id\": null, \"fielders_name\": null, \"fielders_id\": null, \"wicket_type\": null, \"runs_batter\": 0, \"runs_extras\": 1, \"runs_total\": 0, \"team_over\": \"Australia_0\", \"over_ball\": 1, \"inning\": 1, \"runs_cumulative\": 0, \"powerplay\": 1}, {\"game_id\": \"1001349\", \"season\": \"2016/17\", \"team\": \"Australia\", \"over\": 1, \"batter\": \"AJ Finch\", \"batter_id\": \"b8d490fd\", \"bowler\": \"SL Malinga\", \"bowler_id\": \"a12e1d51\", \"non_striker\": \"M Klinger\", \"non_striker_id\": \"b970a03f\", \"wides\": 0, \"noballs\": 0, \"legbyes\": 1, \"byes\": 0, \"wicket\": 1, \"player_out\": null, \"player_out_id\": null, \"fielders_name\": null, \"fielders_id\": null, \"wicket_type\": null, \"runs_batter\": 1, \"runs_extras\": 1, \"runs_total\": 0, \"team_over\": \"Australia_1\", \"over_ball\": 1, \"inning\": 1, \"runs_cumulative\": 0, \"powerplay\": 1}, {\"game_id\": \"1001350\", \"season\": \"2016/17\", \"team\": \"England\", \"over\": 0, \"batter\": \"JM Bairstow\", \"batter_id\": \"j4n5b78s\", \"bowler\": \"C Woakes\", \"bowler_id\": \"c7w4o2k5\", \"non_striker\": \"AD Hales\", \"non_striker_id\": \"a1d4h89e\", \"wides\": 1, \"noballs\": 1, \"legbyes\": 0, \"byes\": 0, \"wicket\": 0, \"player_out\": null, \"player_out_id\": null, \"fielders_name\": null, \"fielders_id\": null, \"wicket_type\": null, \"runs_batter\": 0, \"runs_extras\": 0, \"runs_total\": 0, \"team_over\": \"England_0\", \"over_ball\": 1, \"inning\": 2, \"runs_cumulative\": 0, \"powerplay\": 1}, {\"game_id\": \"1001350\", \"season\": \"2016/17\", \"team\": \"England\", \"over\": 0, \"batter\": \"JM Bairstow\", \"batter_id\": \"j4n5b78s\", \"bowler\": \"C Woakes\", \"bowler_id\": \"c7w4o2k5\", \"non_striker\": \"AD Hales\", \"non_striker_id\": \"a1d4h89e\", \"wides\": 0, \"noballs\": 1, \"legbyes\": 0, \"byes\": 1, \"wicket\": 1, \"player_out\": null, \"player_out_id\": null, \"fielders_name\": null, \"fielders_id\": null, \"wicket_type\": null, \"runs_batter\": 0, \"runs_extras\": 0, \"runs_total\": 1, \"team_over\": \"England_0\", \"over_ball\": 2, \"inning\": 2, \"runs_cumulative\": 1, \"powerplay\": 1}, {\"game_id\": \"1001351\", \"season\": \"2016/17\", \"team\": \"India\", \"over\": 1, \"batter\": \"V Kohli\", \"batter_id\": \"v7k3l9o2\", \"bowler\": \"JJ Bumrah\", \"bowler_id\": \"j5b2m3r4\", \"non_striker\": \"RG Sharma\", \"non_striker_id\": \"r8g3s5h2\", \"wides\": 1, \"noballs\": 0, \"legbyes\": 0, \"byes\": 1, \"wicket\": 0, \"player_out\": null, \"player_out_id\": null, \"fielders_name\": null, \"fielders_id\": null, \"wicket_type\": null, \"runs_batter\": 0, \"runs_extras\": 1, \"runs_total\": 0, \"team_over\": \"India_1\", \"over_ball\": 1, \"inning\": 2, \"runs_cumulative\": 1, \"powerplay\": 1}]}}, {\"mode\": \"vega-lite\"});\n",
       "</script>"
      ],
      "text/plain": [
       "alt.Chart(...)"
      ]
     },
     "execution_count": 97,
     "metadata": {},
     "output_type": "execute_result"
    }
   ],
   "source": [
    "season\t = vis_bar(data_example, \"season\", 150, 150)\n",
    "season\t"
   ]
  },
  {
   "cell_type": "markdown",
   "metadata": {},
   "source": [
    "### Creating Histograms for visulization"
   ]
  },
  {
   "cell_type": "code",
   "execution_count": 98,
   "metadata": {},
   "outputs": [
    {
     "data": {
      "image/png": "[encoded data removed]",
      "text/plain": [
       "<Figure size 640x480 with 1 Axes>"
      ]
     },
     "metadata": {},
     "output_type": "display_data"
    }
   ],
   "source": [
    "hist_chart(data_example, 'over', 'chart1.png', save_path='../data_example')\n"
   ]
  },
  {
   "cell_type": "code",
   "execution_count": 99,
   "metadata": {
    "scrolled": true
   },
   "outputs": [
    {
     "data": {
      "image/png": "[encoded data removed]",
      "text/plain": [
       "<Figure size 640x480 with 1 Axes>"
      ]
     },
     "metadata": {},
     "output_type": "display_data"
    }
   ],
   "source": [
    "hist_chart(data_example, 'batter', 'chart2.png', save_path = '../data_example')\n"
   ]
  },
  {
   "cell_type": "markdown",
   "metadata": {},
   "source": [
    "## Building, training and evaluate the Machine Learning models"
   ]
  },
  {
   "cell_type": "code",
   "execution_count": 100,
   "metadata": {},
   "outputs": [],
   "source": [
    "# preprocessing performs one-hot encoding categorical features and feature scaling.\n",
    "ohe, scaler = preprocessing()\n",
    "\n",
    "# creates a combined transformer object for the coming training\n",
    "ct = transformer(ohe, scaler)\n",
    "\n",
    "#using the transformer object and data to build the  machine learning model \n",
    "final_pipe = build_final_model(ct, X_train_example, y_train_example)\n"
   ]
  },
  {
   "cell_type": "code",
   "execution_count": 101,
   "metadata": {},
   "outputs": [
    {
     "name": "stdout",
     "output_type": "stream",
     "text": [
      "Model Score: 0.0\n",
      "Chart saved to: ../data_example\n"
     ]
    },
    {
     "name": "stderr",
     "output_type": "stream",
     "text": [
      "/Users/alexlin/miniconda3/envs/pycricketpred/lib/python3.9/site-packages/sklearn/preprocessing/_encoders.py:182: UserWarning: Found unknown categories in columns [3] during transform. These unknown categories will be encoded as all zeros\n",
      "  warnings.warn(\n",
      "/Users/alexlin/miniconda3/envs/pycricketpred/lib/python3.9/site-packages/sklearn/preprocessing/_encoders.py:182: UserWarning: Found unknown categories in columns [3] during transform. These unknown categories will be encoded as all zeros\n",
      "  warnings.warn(\n"
     ]
    },
    {
     "data": {
      "text/plain": [
       "(0.0,\n",
       " array([[0, 1],\n",
       "        [1, 0]]),\n",
       " <sklearn.metrics._plot.confusion_matrix.ConfusionMatrixDisplay at 0x1601c0d60>)"
      ]
     },
     "execution_count": 101,
     "metadata": {},
     "output_type": "execute_result"
    },
    {
     "data": {
      "image/png": "[encoded data removed]",
      "text/plain": [
       "<Figure size 640x480 with 2 Axes>"
      ]
     },
     "metadata": {},
     "output_type": "display_data"
    }
   ],
   "source": [
    "# assesses the performance of the model on the testing data\n",
    "evaluate_model(final_pipe, X_test_example, y_test_example, save_image_path=\"../data_example\")"
   ]
  },
  {
   "cell_type": "markdown",
   "metadata": {},
   "source": [
    "## Overall Summary\n",
    "\n",
    "The `pycricketpred` library offers a comprehensive toolkit for cricket match prediction tasks. This walkthrough demonstrated its functionalities for data wrangling, visualization, and building machine learning models.\n",
    "\n",
    "By following the steps outlined and exploring the library's capabilities further, valuable insights would be gained from cricket data and develop effective prediction models. \n",
    "\n",
    "Remember that achieving optimal model performance often involves experimentation with different data preprocessing techniques and hyperparameter tuning."

   ]
  },
  {
   "cell_type": "code",
   "execution_count": null,
   "metadata": {},
   "outputs": [],
   "source": []
  }
 ],
 "metadata": {
  "kernelspec": {
   "display_name": "Python 3 (ipykernel)",
   "language": "python",
   "name": "python3"
  },
  "language_info": {
   "codemirror_mode": {
    "name": "ipython",
    "version": 3
   },
   "file_extension": ".py",
   "mimetype": "text/x-python",
   "name": "python",
   "nbconvert_exporter": "python",
   "pygments_lexer": "ipython3",
   "version": "3.9.19"
  }
 },
 "nbformat": 4,
 "nbformat_minor": 4
}
